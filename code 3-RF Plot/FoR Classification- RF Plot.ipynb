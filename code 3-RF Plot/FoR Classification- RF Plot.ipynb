{
 "cells": [
  {
   "cell_type": "code",
   "execution_count": 1,
   "id": "eeb40535",
   "metadata": {},
   "outputs": [],
   "source": [
    "import pandas as pd\n",
    "\n",
    "# Load datasets\n",
    "train_df = pd.read_csv('train_features.csv')\n",
    "val_df = pd.read_csv('validation_features.csv')"
   ]
  },
  {
   "cell_type": "code",
   "execution_count": 2,
   "id": "f8f5cb81",
   "metadata": {},
   "outputs": [],
   "source": [
    "# Remove empty column '190'\n",
    "train_df = train_df.drop(columns=['190'])\n",
    "val_df = val_df.drop(columns=['190'])"
   ]
  },
  {
   "cell_type": "code",
   "execution_count": 3,
   "id": "d5284788",
   "metadata": {},
   "outputs": [],
   "source": [
    "# Separate features and labels\n",
    "X_train = train_df.drop(columns=['label']).values\n",
    "y_train = train_df['label'].values\n",
    "\n",
    "X_val = val_df.drop(columns=['label']).values\n",
    "y_val = val_df['label'].values"
   ]
  },
  {
   "cell_type": "code",
   "execution_count": 4,
   "id": "7efc2d72",
   "metadata": {},
   "outputs": [],
   "source": [
    "from sklearn.ensemble import RandomForestClassifier\n",
    "from sklearn.metrics import classification_report, confusion_matrix, accuracy_score"
   ]
  },
  {
   "cell_type": "code",
   "execution_count": 16,
   "id": "37fe212e",
   "metadata": {},
   "outputs": [
    {
     "name": "stdout",
     "output_type": "stream",
     "text": [
      "10\n",
      "done\n",
      "done\n",
      "done\n",
      "done\n",
      "done\n",
      "done\n",
      "done\n",
      "done\n",
      "done\n",
      "done\n"
     ]
    }
   ],
   "source": [
    "from sklearn.metrics import accuracy_score\n",
    "# create a random forest classifier object with a fixed number of trees\n",
    "rfc = RandomForestClassifier(n_estimators=100, random_state=42)\n",
    "\n",
    "# define a range of node sizes to try\n",
    "node_size_range = range(2, 102, 10)\n",
    "\n",
    "# create an empty list to store the percentage error values\n",
    "error_percentage_values = []\n",
    "\n",
    "print(len(node_size_range))\n",
    "\n",
    "# loop over the range of node sizes\n",
    "for node_size in node_size_range:\n",
    "    # set the minimum samples required to split a node to the current node size\n",
    "    rfc.min_samples_split = node_size\n",
    "    \n",
    "    # fit the model to the training data\n",
    "    rfc.fit(X_train, y_train)\n",
    "    \n",
    "    print(\"done\")\n",
    "    \n",
    "    # use the model to predict on the test data\n",
    "    y_pred = rfc.predict(X_val)\n",
    "    \n",
    "    # compute the accuracy score\n",
    "    accuracy = accuracy_score(y_val, y_pred)\n",
    "    \n",
    "    # compute the percentage error\n",
    "    error_percentage = (1 - accuracy) * 100\n",
    "    \n",
    "    # append the percentage error to the list of error percentage values\n",
    "    error_percentage_values.append(error_percentage)"
   ]
  },
  {
   "cell_type": "code",
   "execution_count": 17,
   "id": "dce5cea2",
   "metadata": {},
   "outputs": [
    {
     "data": {
      "image/png": "[encoded data removed]",
      "text/plain": [
       "<Figure size 432x288 with 1 Axes>"
      ]
     },
     "metadata": {
      "needs_background": "light"
     },
     "output_type": "display_data"
    }
   ],
   "source": [
    "import matplotlib.pyplot as plt \n",
    "# plot the error percentage values as a function of the node size\n",
    "plt.plot(node_size_range, error_percentage_values)\n",
    "plt.xlabel('Node Size')\n",
    "plt.ylabel('Percentage Error')\n",
    "plt.title('Impact of Node Size on Error')\n",
    "plt.grid(True, axis='y', alpha=0.4)\n",
    "plt.show()"
   ]
  },
  {
   "cell_type": "code",
   "execution_count": null,
   "id": "f0ffa036",
   "metadata": {},
   "outputs": [],
   "source": []
  }
 ],
 "metadata": {
  "kernelspec": {
   "display_name": "Python 3",
   "language": "python",
   "name": "python3"
  },
  "language_info": {
   "codemirror_mode": {
    "name": "ipython",
    "version": 3
   },
   "file_extension": ".py",
   "mimetype": "text/x-python",
   "name": "python",
   "nbconvert_exporter": "python",
   "pygments_lexer": "ipython3",
   "version": "3.8.8"
  }
 },
 "nbformat": 4,
 "nbformat_minor": 5
}
