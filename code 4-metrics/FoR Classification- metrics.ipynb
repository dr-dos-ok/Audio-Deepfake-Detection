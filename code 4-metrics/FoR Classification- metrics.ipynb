{
 "cells": [
  {
   "cell_type": "code",
   "execution_count": 1,
   "id": "8a600f73",
   "metadata": {},
   "outputs": [],
   "source": [
    "import pandas as pd\n",
    "\n",
    "# Load datasets\n",
    "train_df = pd.read_csv('train_features.csv')\n",
    "val_df = pd.read_csv('validation_features.csv')"
   ]
  },
  {
   "cell_type": "code",
   "execution_count": 2,
   "id": "c49fce1b",
   "metadata": {},
   "outputs": [],
   "source": [
    "# Remove empty column '190'\n",
    "train_df = train_df.drop(columns=['190'])\n",
    "val_df = val_df.drop(columns=['190'])"
   ]
  },
  {
   "cell_type": "code",
   "execution_count": 3,
   "id": "ec0114c7",
   "metadata": {},
   "outputs": [],
   "source": [
    "# Separate features and labels\n",
    "X_train = train_df.drop(columns=['label']).values\n",
    "y_train = train_df['label'].values\n",
    "\n",
    "X_val = val_df.drop(columns=['label']).values\n",
    "y_val = val_df['label'].values"
   ]
  },
  {
   "cell_type": "code",
   "execution_count": 4,
   "id": "c16be25d",
   "metadata": {},
   "outputs": [],
   "source": [
    "from sklearn.ensemble import RandomForestClassifier\n",
    "from sklearn.metrics import classification_report, confusion_matrix, accuracy_score\n",
    "\n",
    "# Initialize the Random Forest model\n",
    "rf_model = RandomForestClassifier(n_estimators=100, random_state=42)"
   ]
  },
  {
   "cell_type": "code",
   "execution_count": 5,
   "id": "6b82c021",
   "metadata": {},
   "outputs": [
    {
     "data": {
      "text/html": [
       "<style>#sk-container-id-1 {color: black;}#sk-container-id-1 pre{padding: 0;}#sk-container-id-1 div.sk-toggleable {background-color: white;}#sk-container-id-1 label.sk-toggleable__label {cursor: pointer;display: block;width: 100%;margin-bottom: 0;padding: 0.3em;box-sizing: border-box;text-align: center;}#sk-container-id-1 label.sk-toggleable__label-arrow:before {content: \"▸\";float: left;margin-right: 0.25em;color: #696969;}#sk-container-id-1 label.sk-toggleable__label-arrow:hover:before {color: black;}#sk-container-id-1 div.sk-estimator:hover label.sk-toggleable__label-arrow:before {color: black;}#sk-container-id-1 div.sk-toggleable__content {max-height: 0;max-width: 0;overflow: hidden;text-align: left;background-color: #f0f8ff;}#sk-container-id-1 div.sk-toggleable__content pre {margin: 0.2em;color: black;border-radius: 0.25em;background-color: #f0f8ff;}#sk-container-id-1 input.sk-toggleable__control:checked~div.sk-toggleable__content {max-height: 200px;max-width: 100%;overflow: auto;}#sk-container-id-1 input.sk-toggleable__control:checked~label.sk-toggleable__label-arrow:before {content: \"▾\";}#sk-container-id-1 div.sk-estimator input.sk-toggleable__control:checked~label.sk-toggleable__label {background-color: #d4ebff;}#sk-container-id-1 div.sk-label input.sk-toggleable__control:checked~label.sk-toggleable__label {background-color: #d4ebff;}#sk-container-id-1 input.sk-hidden--visually {border: 0;clip: rect(1px 1px 1px 1px);clip: rect(1px, 1px, 1px, 1px);height: 1px;margin: -1px;overflow: hidden;padding: 0;position: absolute;width: 1px;}#sk-container-id-1 div.sk-estimator {font-family: monospace;background-color: #f0f8ff;border: 1px dotted black;border-radius: 0.25em;box-sizing: border-box;margin-bottom: 0.5em;}#sk-container-id-1 div.sk-estimator:hover {background-color: #d4ebff;}#sk-container-id-1 div.sk-parallel-item::after {content: \"\";width: 100%;border-bottom: 1px solid gray;flex-grow: 1;}#sk-container-id-1 div.sk-label:hover label.sk-toggleable__label {background-color: #d4ebff;}#sk-container-id-1 div.sk-serial::before {content: \"\";position: absolute;border-left: 1px solid gray;box-sizing: border-box;top: 0;bottom: 0;left: 50%;z-index: 0;}#sk-container-id-1 div.sk-serial {display: flex;flex-direction: column;align-items: center;background-color: white;padding-right: 0.2em;padding-left: 0.2em;position: relative;}#sk-container-id-1 div.sk-item {position: relative;z-index: 1;}#sk-container-id-1 div.sk-parallel {display: flex;align-items: stretch;justify-content: center;background-color: white;position: relative;}#sk-container-id-1 div.sk-item::before, #sk-container-id-1 div.sk-parallel-item::before {content: \"\";position: absolute;border-left: 1px solid gray;box-sizing: border-box;top: 0;bottom: 0;left: 50%;z-index: -1;}#sk-container-id-1 div.sk-parallel-item {display: flex;flex-direction: column;z-index: 1;position: relative;background-color: white;}#sk-container-id-1 div.sk-parallel-item:first-child::after {align-self: flex-end;width: 50%;}#sk-container-id-1 div.sk-parallel-item:last-child::after {align-self: flex-start;width: 50%;}#sk-container-id-1 div.sk-parallel-item:only-child::after {width: 0;}#sk-container-id-1 div.sk-dashed-wrapped {border: 1px dashed gray;margin: 0 0.4em 0.5em 0.4em;box-sizing: border-box;padding-bottom: 0.4em;background-color: white;}#sk-container-id-1 div.sk-label label {font-family: monospace;font-weight: bold;display: inline-block;line-height: 1.2em;}#sk-container-id-1 div.sk-label-container {text-align: center;}#sk-container-id-1 div.sk-container {/* jupyter's `normalize.less` sets `[hidden] { display: none; }` but bootstrap.min.css set `[hidden] { display: none !important; }` so we also need the `!important` here to be able to override the default hidden behavior on the sphinx rendered scikit-learn.org. See: https://github.com/scikit-learn/scikit-learn/issues/21755 */display: inline-block !important;position: relative;}#sk-container-id-1 div.sk-text-repr-fallback {display: none;}</style><div id=\"sk-container-id-1\" class=\"sk-top-container\"><div class=\"sk-text-repr-fallback\"><pre>RandomForestClassifier(random_state=42)</pre><b>In a Jupyter environment, please rerun this cell to show the HTML representation or trust the notebook. <br />On GitHub, the HTML representation is unable to render, please try loading this page with nbviewer.org.</b></div><div class=\"sk-container\" hidden><div class=\"sk-item\"><div class=\"sk-estimator sk-toggleable\"><input class=\"sk-toggleable__control sk-hidden--visually\" id=\"sk-estimator-id-1\" type=\"checkbox\" checked><label for=\"sk-estimator-id-1\" class=\"sk-toggleable__label sk-toggleable__label-arrow\">RandomForestClassifier</label><div class=\"sk-toggleable__content\"><pre>RandomForestClassifier(random_state=42)</pre></div></div></div></div></div>"
      ],
      "text/plain": [
       "RandomForestClassifier(random_state=42)"
      ]
     },
     "execution_count": 5,
     "metadata": {},
     "output_type": "execute_result"
    }
   ],
   "source": [
    "# Train the model\n",
    "rf_model.fit(X_train, y_train)"
   ]
  },
  {
   "cell_type": "code",
   "execution_count": 6,
   "id": "a5a9c96a",
   "metadata": {},
   "outputs": [
    {
     "name": "stdout",
     "output_type": "stream",
     "text": [
      "              precision    recall  f1-score   support\n",
      "\n",
      "        Fake     0.9766    0.9752    0.9759      1413\n",
      "        Real     0.9753    0.9766    0.9760      1413\n",
      "\n",
      "    accuracy                         0.9759      2826\n",
      "   macro avg     0.9759    0.9759    0.9759      2826\n",
      "weighted avg     0.9759    0.9759    0.9759      2826\n",
      "\n"
     ]
    }
   ],
   "source": [
    "# Predict on the validation set\n",
    "val_predictions = rf_model.predict(X_val)\n",
    "\n",
    "# Classification report\n",
    "print(classification_report(y_val, val_predictions, digits=4, target_names=['Fake', 'Real']))"
   ]
  },
  {
   "cell_type": "code",
   "execution_count": 9,
   "id": "b6ca93cc",
   "metadata": {},
   "outputs": [
    {
     "data": {
      "image/png": "[encoded data removed]",
      "text/plain": [
       "<Figure size 576x432 with 2 Axes>"
      ]
     },
     "metadata": {
      "needs_background": "light"
     },
     "output_type": "display_data"
    }
   ],
   "source": [
    "import matplotlib.pyplot as plt\n",
    "import seaborn as sns\n",
    "\n",
    "\n",
    "# Confusion matrix\n",
    "cm = confusion_matrix(y_val, val_predictions)\n",
    "\n",
    "# Labels for confusion matrix\n",
    "labels = ['Fake', 'Real']\n",
    "\n",
    "# Plot confusion matrix\n",
    "plt.figure(figsize=(8, 6))\n",
    "sns.heatmap(cm, annot=True, fmt='d', cmap='Blues', xticklabels=labels, yticklabels=labels)\n",
    "plt.title('Confusion Matrix')\n",
    "plt.xlabel('Predicted')\n",
    "plt.ylabel('Actual')\n",
    "plt.show()"
   ]
  },
  {
   "cell_type": "code",
   "execution_count": 12,
   "id": "013fb996",
   "metadata": {},
   "outputs": [],
   "source": [
    "import numpy as np\n",
    "\n",
    "# Confusion matrix values for binary classification (Fake: class 0, Real: class 1)\n",
    "tn, fp, fn, tp = cm.ravel()\n",
    "\n",
    "# Functions for metrics\n",
    "def accuracy(tn, fp, fn, tp):\n",
    "    return (tp + tn) / (tp + tn + fp + fn)\n",
    "\n",
    "def error_rate(tn, fp, fn, tp):\n",
    "    return (fp + fn) / (tp + tn + fp + fn)\n",
    "\n",
    "def sensitivity(tp, fn):\n",
    "    return tp / (tp + fn)\n",
    "\n",
    "def specificity(tn, fp):\n",
    "    return tn / (tn + fp)\n",
    "\n",
    "def precision(tp, fp):\n",
    "    return tp / (tp + fp)\n",
    "\n",
    "def recall(tp, fn):\n",
    "    return tp / (tp + fn)\n",
    "\n",
    "def f_measure(precision, recall):\n",
    "    return (2 * precision * recall) / (precision + recall)\n",
    "\n",
    "def geometric_mean(tp, tn):\n",
    "    return np.sqrt(tp * tn)"
   ]
  },
  {
   "cell_type": "code",
   "execution_count": 13,
   "id": "f6f7f77d",
   "metadata": {},
   "outputs": [],
   "source": [
    "# Metrics for \"Real\" class (Positive class)\n",
    "real_acc = accuracy(tn, fp, fn, tp)\n",
    "real_err = error_rate(tn, fp, fn, tp)\n",
    "real_sn = sensitivity(tp, fn)\n",
    "real_sp = specificity(tn, fp)\n",
    "real_p = precision(tp, fp)\n",
    "real_r = recall(tp, fn)\n",
    "real_f1 = f_measure(real_p, real_r)\n",
    "real_gm = geometric_mean(tp, tn)"
   ]
  },
  {
   "cell_type": "code",
   "execution_count": 16,
   "id": "b686a6b6",
   "metadata": {},
   "outputs": [
    {
     "name": "stdout",
     "output_type": "stream",
     "text": [
      "\n",
      "=== Real Class (Positive) Metrics ===\n",
      "Accuracy: 0.9759\n",
      "Error Rate: 0.0241\n",
      "Sensitivity: 0.9766\n",
      "Specificity: 0.9752\n",
      "Precision: 0.9753\n",
      "Recall: 0.9766\n",
      "F-Measure: 0.9760\n",
      "Geometric Mean: 1378.9996\n"
     ]
    }
   ],
   "source": [
    "# Display Real class metrics\n",
    "print(\"\\n=== Real Class (Positive) Metrics ===\")\n",
    "print(f\"Accuracy: {real_acc:.4f}\")\n",
    "print(f\"Error Rate: {real_err:.4f}\")\n",
    "print(f\"Sensitivity: {real_sn:.4f}\")\n",
    "print(f\"Specificity: {real_sp:.4f}\")\n",
    "print(f\"Precision: {real_p:.4f}\")\n",
    "print(f\"Recall: {real_r:.4f}\")\n",
    "print(f\"F-Measure: {real_f1:.4f}\")\n",
    "print(f\"Geometric Mean: {real_gm:.4f}\")"
   ]
  },
  {
   "cell_type": "code",
   "execution_count": 14,
   "id": "854badb9",
   "metadata": {},
   "outputs": [],
   "source": [
    "# Compute metrics for \"Fake\" class by inverting the confusion matrix (i.e., treating Fake as the positive class)\n",
    "fake_tp, fake_fp, fake_fn, fake_tn = tn, fp, fn, tp\n",
    "\n",
    "fake_acc = accuracy(fake_tn, fake_fp, fake_fn, fake_tp)\n",
    "fake_err = error_rate(fake_tn, fake_fp, fake_fn, fake_tp)\n",
    "fake_sn = sensitivity(fake_tp, fake_fn)\n",
    "fake_sp = specificity(fake_tn, fake_fp)\n",
    "fake_p = precision(fake_tp, fake_fp)\n",
    "fake_r = recall(fake_tp, fake_fn)\n",
    "fake_f1 = f_measure(fake_p, fake_r)\n",
    "fake_gm = geometric_mean(fake_tp, fake_tn)"
   ]
  },
  {
   "cell_type": "code",
   "execution_count": 17,
   "id": "0595b5ab",
   "metadata": {},
   "outputs": [
    {
     "name": "stdout",
     "output_type": "stream",
     "text": [
      "\n",
      "=== Fake Class (Positive) Metrics ===\n",
      "Accuracy: 0.9759\n",
      "Error Rate: 0.0241\n",
      "Sensitivity: 0.9766\n",
      "Specificity: 0.9753\n",
      "Precision: 0.9752\n",
      "Recall: 0.9766\n",
      "F-Measure: 0.9759\n",
      "Geometric Mean: 1378.9996\n"
     ]
    }
   ],
   "source": [
    "# Display Fake class metrics\n",
    "print(\"\\n=== Fake Class (Positive) Metrics ===\")\n",
    "print(f\"Accuracy: {fake_acc:.4f}\")\n",
    "print(f\"Error Rate: {fake_err:.4f}\")\n",
    "print(f\"Sensitivity: {fake_sn:.4f}\")\n",
    "print(f\"Specificity: {fake_sp:.4f}\")\n",
    "print(f\"Precision: {fake_p:.4f}\")\n",
    "print(f\"Recall: {fake_r:.4f}\")\n",
    "print(f\"F-Measure: {fake_f1:.4f}\")\n",
    "print(f\"Geometric Mean: {fake_gm:.4f}\")"
   ]
  },
  {
   "cell_type": "code",
   "execution_count": 15,
   "id": "e864d516",
   "metadata": {},
   "outputs": [],
   "source": [
    "# Averaged metrics (simple average over both classes)\n",
    "avg_acc = (real_acc + fake_acc) / 2\n",
    "avg_err = (real_err + fake_err) / 2\n",
    "avg_sn = (real_sn + fake_sn) / 2\n",
    "avg_sp = (real_sp + fake_sp) / 2\n",
    "avg_p = (real_p + fake_p) / 2\n",
    "avg_r = (real_r + fake_r) / 2\n",
    "avg_f1 = (real_f1 + fake_f1) / 2\n",
    "avg_gm = (real_gm + fake_gm) / 2"
   ]
  },
  {
   "cell_type": "code",
   "execution_count": 18,
   "id": "b156e929",
   "metadata": {},
   "outputs": [
    {
     "name": "stdout",
     "output_type": "stream",
     "text": [
      "\n",
      "=== Averaged Metrics ===\n",
      "Average Accuracy: 0.9759\n",
      "Average Error Rate: 0.0241\n",
      "Average Sensitivity: 0.9766\n",
      "Average Specificity: 0.9752\n",
      "Average Precision: 0.9752\n",
      "Average Recall: 0.9766\n",
      "Average F-Measure: 0.9759\n",
      "Average Geometric Mean: 1378.9996\n"
     ]
    }
   ],
   "source": [
    "# Display Average metrics\n",
    "print(\"\\n=== Averaged Metrics ===\")\n",
    "print(f\"Average Accuracy: {avg_acc:.4f}\")\n",
    "print(f\"Average Error Rate: {avg_err:.4f}\")\n",
    "print(f\"Average Sensitivity: {avg_sn:.4f}\")\n",
    "print(f\"Average Specificity: {avg_sp:.4f}\")\n",
    "print(f\"Average Precision: {avg_p:.4f}\")\n",
    "print(f\"Average Recall: {avg_r:.4f}\")\n",
    "print(f\"Average F-Measure: {avg_f1:.4f}\")\n",
    "print(f\"Average Geometric Mean: {avg_gm:.4f}\")"
   ]
  },
  {
   "cell_type": "code",
   "execution_count": null,
   "id": "e4434b76",
   "metadata": {},
   "outputs": [],
   "source": []
  }
 ],
 "metadata": {
  "kernelspec": {
   "display_name": "Python 3 (ipykernel)",
   "language": "python",
   "name": "python3"
  },
  "language_info": {
   "codemirror_mode": {
    "name": "ipython",
    "version": 3
   },
   "file_extension": ".py",
   "mimetype": "text/x-python",
   "name": "python",
   "nbconvert_exporter": "python",
   "pygments_lexer": "ipython3",
   "version": "3.11.7"
  }
 },
 "nbformat": 4,
 "nbformat_minor": 5
}
